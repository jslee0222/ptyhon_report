{
  "nbformat": 4,
  "nbformat_minor": 0,
  "metadata": {
    "colab": {
      "name": "a1.ipynb",
      "provenance": [],
      "authorship_tag": "ABX9TyNFm/MJwNaGCkgOvsztK8RM",
      "include_colab_link": true
    },
    "kernelspec": {
      "name": "python3",
      "display_name": "Python 3"
    },
    "language_info": {
      "name": "python"
    }
  },
  "cells": [
    {
      "cell_type": "markdown",
      "metadata": {
        "id": "view-in-github",
        "colab_type": "text"
      },
      "source": [
        "<a href=\"https://colab.research.google.com/github/jslee0222/ptyhon_report/blob/main/a1234.ipynb\" target=\"_parent\"><img src=\"https://colab.research.google.com/assets/colab-badge.svg\" alt=\"Open In Colab\"/></a>"
      ]
    },
    {
      "cell_type": "code",
      "execution_count": 1,
      "metadata": {
        "colab": {
          "base_uri": "https://localhost:8080/"
        },
        "id": "zF8a3ZesuXEV",
        "outputId": "68169d46-53ce-473a-d13f-da8c03c2b439"
      },
      "outputs": [
        {
          "output_type": "stream",
          "name": "stdout",
          "text": [
            "3개의 정수값을 입력하시오\n",
            "n1의 정수값을 입력: 20\n",
            "n2의 정수값을 입력: 230\n",
            "n3의 정수값을 입력: 50\n",
            "100.0\n"
          ]
        }
      ],
      "source": [
        "print(\"3개의 정수값을 입력하시오\") \n",
        "n1 = int(input(\"n1의 정수값을 입력: \"))\n",
        "n2 = int(input(\"n2의 정수값을 입력: \"))\n",
        "n3 = int(input(\"n3의 정수값을 입력: \"))\n",
        "\n",
        "total = n1 + n2 + n3;\n",
        "average = total / 3;\n",
        "print(average) "
      ]
    },
    {
      "cell_type": "code",
      "source": [
        "import math\n",
        "#from math import sqrt \n",
        "\n",
        "print(\"'a, b, c' 3개의 값을 입력하시오\")\n",
        "a = int(input(\"Enter the a: \"))\n",
        "b = int(input(\"Enter the b: \")) \n",
        "c = int(input(\"Enter the c: \"))\n",
        "\n",
        "d = math.sqrt(b*b) - (4*a*c); \n",
        "#d = sqrt(b*b) - (4*a*c);\n",
        "x1 = (-b+d) / (2 * a);\n",
        "x2 = (-b-d) / (2 * a);\n",
        "print(x1, x2)\n"
      ],
      "metadata": {
        "colab": {
          "base_uri": "https://localhost:8080/"
        },
        "id": "UdtV3Xqx0guV",
        "outputId": "3c5047df-b6fe-450c-fd9a-f0febb202d69"
      },
      "execution_count": 2,
      "outputs": [
        {
          "output_type": "stream",
          "name": "stdout",
          "text": [
            "'a, b, c' 3개의 값을 입력하시오\n",
            "Enter the a: 10\n",
            "Enter the b: 20\n",
            "Enter the c: 30\n",
            "-60.0 58.0\n"
          ]
        }
      ]
    },
    {
      "cell_type": "code",
      "source": [
        "import math\n",
        "\n",
        "# 근의공식 구하기\n",
        "a = int(input(\"a의 값을 입력하세요: \"))\n",
        "b = int(input(\"b의 값을 입력하세요: \"))\n",
        "c = int(input(\"c의 값을 입력하세요: \"))\n",
        "\n",
        "x1 = ( (-b + (math.sqrt(math.pow(b,2) - 4 * a * c)))/2 * a)\n",
        "x2 = ( (-b - (math.sqrt(math.pow(b,2) - 4 * a * c)))/2 * a)\n",
        "\n",
        "print(\"x1 = \" , x1)\n",
        "print(\"x2 = \" , x2)"
      ],
      "metadata": {
        "colab": {
          "base_uri": "https://localhost:8080/"
        },
        "id": "kguTsVKo1yaU",
        "outputId": "51fd1429-7d50-4ba9-8019-ae28b0a8c3ae"
      },
      "execution_count": 9,
      "outputs": [
        {
          "output_type": "stream",
          "name": "stdout",
          "text": [
            "a의 값을 입력하세요: 2\n",
            "b의 값을 입력하세요: 1\n",
            "c의 값을 입력하세요: 0\n",
            "x1 =  0.0\n",
            "x2 =  -2.0\n"
          ]
        }
      ]
    },
    {
      "cell_type": "code",
      "source": [
        "total = 0\n",
        "counter = 1 \n",
        "while counter <= 10:\n",
        " grade=int(input (\"Enter grade: \"))\n",
        " total = grade + total \n",
        " counter = counter + 1\n",
        "average = total / 10\n",
        "print(average)"
      ],
      "metadata": {
        "colab": {
          "base_uri": "https://localhost:8080/"
        },
        "id": "DFtdsGw_2JRQ",
        "outputId": "e4ae0451-2491-4273-9d78-1bbb09e8e4ca"
      },
      "execution_count": 13,
      "outputs": [
        {
          "output_type": "stream",
          "name": "stdout",
          "text": [
            "Enter grade: 1\n",
            "Enter grade: 2\n",
            "Enter grade: 3\n",
            "Enter grade: 1\n",
            "Enter grade: 2\n",
            "Enter grade: 3\n",
            "Enter grade: 1\n",
            "Enter grade: 2\n",
            "Enter grade: 3\n",
            "Enter grade: 4\n",
            "2.2\n"
          ]
        }
      ]
    }
  ]
}