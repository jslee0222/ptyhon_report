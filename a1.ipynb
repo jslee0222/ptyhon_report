{
  "nbformat": 4,
  "nbformat_minor": 0,
  "metadata": {
    "colab": {
      "name": "a1.ipynb",
      "provenance": [],
      "collapsed_sections": [],
      "authorship_tag": "ABX9TyO6rKb+TAvdk4UpikfcQRvC",
      "include_colab_link": true
    },
    "kernelspec": {
      "name": "python3",
      "display_name": "Python 3"
    },
    "language_info": {
      "name": "python"
    }
  },
  "cells": [
    {
      "cell_type": "markdown",
      "metadata": {
        "id": "view-in-github",
        "colab_type": "text"
      },
      "source": [
        "<a href=\"https://colab.research.google.com/github/jslee0222/ptyhon_report/blob/main/a1.ipynb\" target=\"_parent\"><img src=\"https://colab.research.google.com/assets/colab-badge.svg\" alt=\"Open In Colab\"/></a>"
      ]
    },
    {
      "cell_type": "code",
      "execution_count": null,
      "metadata": {
        "colab": {
          "base_uri": "https://localhost:8080/"
        },
        "id": "zF8a3ZesuXEV",
        "outputId": "68169d46-53ce-473a-d13f-da8c03c2b439"
      },
      "outputs": [
        {
          "output_type": "stream",
          "name": "stdout",
          "text": [
            "3개의 정수값을 입력하시오\n",
            "n1의 정수값을 입력: 20\n",
            "n2의 정수값을 입력: 230\n",
            "n3의 정수값을 입력: 50\n",
            "100.0\n"
          ]
        }
      ],
      "source": [
        "print(\"3개의 정수값을 입력하시오\") \n",
        "n1 = int(input(\"n1의 정수값을 입력: \"))\n",
        "n2 = int(input(\"n2의 정수값을 입력: \"))\n",
        "n3 = int(input(\"n3의 정수값을 입력: \"))\n",
        "\n",
        "total = n1 + n2 + n3;\n",
        "average = total / 3;\n",
        "print(average) "
      ]
    },
    {
      "cell_type": "code",
      "source": [
        "import math\n",
        "#from math import sqrt \n",
        "\n",
        "print(\"'a, b, c' 3개의 값을 입력하시오\")\n",
        "a = int(input(\"Enter the a: \"))\n",
        "b = int(input(\"Enter the b: \")) \n",
        "c = int(input(\"Enter the c: \"))\n",
        "\n",
        "d = math.sqrt(b*b) - (4*a*c); \n",
        "#d = sqrt(b*b) - (4*a*c);\n",
        "x1 = (-b+d) / (2 * a);\n",
        "x2 = (-b-d) / (2 * a);\n",
        "print(x1, x2)\n"
      ],
      "metadata": {
        "colab": {
          "base_uri": "https://localhost:8080/"
        },
        "id": "UdtV3Xqx0guV",
        "outputId": "3c5047df-b6fe-450c-fd9a-f0febb202d69"
      },
      "execution_count": null,
      "outputs": [
        {
          "output_type": "stream",
          "name": "stdout",
          "text": [
            "'a, b, c' 3개의 값을 입력하시오\n",
            "Enter the a: 10\n",
            "Enter the b: 20\n",
            "Enter the c: 30\n",
            "-60.0 58.0\n"
          ]
        }
      ]
    },
    {
      "cell_type": "code",
      "source": [
        "import math\n",
        "\n",
        "# 근의공식 구하기\n",
        "a = int(input(\"a의 값을 입력하세요: \"))\n",
        "b = int(input(\"b의 값을 입력하세요: \"))\n",
        "c = int(input(\"c의 값을 입력하세요: \"))\n",
        "\n",
        "x1 = ( (-b + (math.sqrt(math.pow(b,2) - 4 * a * c)))/2 * a)\n",
        "x2 = ( (-b - (math.sqrt(math.pow(b,2) - 4 * a * c)))/2 * a)\n",
        "\n",
        "print(\"x1 = \" , x1)\n",
        "print(\"x2 = \" , x2)"
      ],
      "metadata": {
        "colab": {
          "base_uri": "https://localhost:8080/"
        },
        "id": "kguTsVKo1yaU",
        "outputId": "51fd1429-7d50-4ba9-8019-ae28b0a8c3ae"
      },
      "execution_count": null,
      "outputs": [
        {
          "output_type": "stream",
          "name": "stdout",
          "text": [
            "a의 값을 입력하세요: 2\n",
            "b의 값을 입력하세요: 1\n",
            "c의 값을 입력하세요: 0\n",
            "x1 =  0.0\n",
            "x2 =  -2.0\n"
          ]
        }
      ]
    },
    {
      "cell_type": "code",
      "source": [
        "total = 0\n",
        "counter = 1 \n",
        "while counter <= 10:\n",
        " grade=int(input (\"Enter grade: \"))\n",
        " total = grade + total \n",
        " counter = counter + 1\n",
        "average = total / 10\n",
        "print(average)"
      ],
      "metadata": {
        "colab": {
          "base_uri": "https://localhost:8080/"
        },
        "id": "DFtdsGw_2JRQ",
        "outputId": "e4ae0451-2491-4273-9d78-1bbb09e8e4ca"
      },
      "execution_count": null,
      "outputs": [
        {
          "output_type": "stream",
          "name": "stdout",
          "text": [
            "Enter grade: 1\n",
            "Enter grade: 2\n",
            "Enter grade: 3\n",
            "Enter grade: 1\n",
            "Enter grade: 2\n",
            "Enter grade: 3\n",
            "Enter grade: 1\n",
            "Enter grade: 2\n",
            "Enter grade: 3\n",
            "Enter grade: 4\n",
            "2.2\n"
          ]
        }
      ]
    },
    {
      "cell_type": "code",
      "source": [
        "total = 0\n",
        "counter = 1\n",
        "while counter <= 10:\n",
        " grad = int(input (\"Enter grade: \"))\n",
        " total = grade + total\n",
        " counter = counter + 1\n",
        "average = total / 10\n",
        "print(average)"
      ],
      "metadata": {
        "colab": {
          "base_uri": "https://localhost:8080/"
        },
        "id": "SG8dViDA6Zuv",
        "outputId": "af954188-4c70-4f47-a7c5-5f5cdbde37f3"
      },
      "execution_count": null,
      "outputs": [
        {
          "output_type": "stream",
          "name": "stdout",
          "text": [
            "Enter grade: 1\n",
            "Enter grade: 1\n",
            "Enter grade: 2\n",
            "Enter grade: 1\n",
            "Enter grade: 1\n",
            "Enter grade: 2\n",
            "Enter grade: 1\n",
            "Enter grade: 1\n",
            "Enter grade: 2\n",
            "Enter grade: 3\n",
            "4.0\n"
          ]
        }
      ]
    },
    {
      "cell_type": "code",
      "source": [
        "print(\"3개의 값을 입력하시오\")\n",
        "x = int(input(\"Enter the x: \"))\n",
        "y = int(input(\"Enter the y: \"))\n",
        "z = int(input(\"Enter the z: \"))\n",
        "x = x + 1\n",
        "y = y + 1\n",
        "z = z + 1\n",
        "print(\"변경된 값 : \", x, y, z)"
      ],
      "metadata": {
        "colab": {
          "base_uri": "https://localhost:8080/"
        },
        "id": "vo_JWpK069Ns",
        "outputId": "a604c09f-3f71-4f9a-aeb1-3f22b765efcc"
      },
      "execution_count": null,
      "outputs": [
        {
          "output_type": "stream",
          "name": "stdout",
          "text": [
            "3개의 값을 입력하시오\n",
            "Enter the x: 1\n",
            "Enter the y: 2\n",
            "Enter the z: 3\n",
            "변경된 값 :  2 3 4\n"
          ]
        }
      ]
    },
    {
      "cell_type": "code",
      "source": [
        "a = 10\n",
        "b = 8750\n",
        "c = a * b\n",
        "print(c)\n"
      ],
      "metadata": {
        "colab": {
          "base_uri": "https://localhost:8080/"
        },
        "id": "CtFdRAxZ7Cav",
        "outputId": "86b8d775-9c54-456f-e584-cd9b332d2c24"
      },
      "execution_count": null,
      "outputs": [
        {
          "output_type": "stream",
          "name": "stdout",
          "text": [
            "87500\n"
          ]
        }
      ]
    },
    {
      "cell_type": "code",
      "source": [
        "pay_rate = 8750\n",
        "hours_worked = int(input(\"일을 한 전체 시간입력하세요!: \" ))\n",
        "monthly_pay = hours_worked * pay_rate\n",
        "print(monthly_pay)"
      ],
      "metadata": {
        "colab": {
          "base_uri": "https://localhost:8080/"
        },
        "id": "R5JcWkdn7MRj",
        "outputId": "afcb5609-9853-4658-c23e-993289ae433d"
      },
      "execution_count": null,
      "outputs": [
        {
          "output_type": "stream",
          "name": "stdout",
          "text": [
            "일을 한 전체 시간입력하세요!: 10\n",
            "87500\n"
          ]
        }
      ]
    },
    {
      "cell_type": "code",
      "source": [
        "won = 100000\n",
        "usd = won * 1130\n",
        "print(usd)"
      ],
      "metadata": {
        "colab": {
          "base_uri": "https://localhost:8080/"
        },
        "id": "T-g6-TR67PzE",
        "outputId": "7a3b070a-dd7c-4b7e-e8a2-403bfdaf4b3c"
      },
      "execution_count": null,
      "outputs": [
        {
          "output_type": "stream",
          "name": "stdout",
          "text": [
            "113000000\n"
          ]
        }
      ]
    },
    {
      "cell_type": "code",
      "source": [
        "exchange_rate = int(input(\"현재 환율입력: \"))\n",
        "won = 100000\n",
        "usd = won * exchange_rate\n",
        "print(usd)"
      ],
      "metadata": {
        "colab": {
          "base_uri": "https://localhost:8080/"
        },
        "id": "HZSPxE0q7U9R",
        "outputId": "929a3025-c0c5-4ab9-da8f-b7d84d232612"
      },
      "execution_count": null,
      "outputs": [
        {
          "output_type": "stream",
          "name": "stdout",
          "text": [
            "현재 환율입력: 1260\n",
            "126000000\n"
          ]
        }
      ]
    },
    {
      "cell_type": "code",
      "source": [
        "fahrenheit = 100\n",
        "celsius = fahrenheit-32\n",
        "celsius = celsius * 5\n",
        "celsius = celsius/9\n",
        "print(celsius)"
      ],
      "metadata": {
        "colab": {
          "base_uri": "https://localhost:8080/"
        },
        "id": "SVxNBa-27d_K",
        "outputId": "ed1e9d09-97cd-41dd-8581-a5c2f94d9ac7"
      },
      "execution_count": null,
      "outputs": [
        {
          "output_type": "stream",
          "name": "stdout",
          "text": [
            "37.77777777777778\n"
          ]
        }
      ]
    },
    {
      "cell_type": "code",
      "source": [
        "x = 0\n",
        "y = 0\n",
        "x = int(input(\"정수 x를 입력하시오: \"))\n",
        "y = int(input(\"정수 y를 입력하시오: \"))\n",
        "sum = x + y\n",
        "print(sum)"
      ],
      "metadata": {
        "colab": {
          "base_uri": "https://localhost:8080/"
        },
        "id": "EH9vokrr7iri",
        "outputId": "3bbe03d9-154a-4c2a-8630-96aa50b429c6"
      },
      "execution_count": null,
      "outputs": [
        {
          "output_type": "stream",
          "name": "stdout",
          "text": [
            "정수 x를 입력하시오: 2\n",
            "정수 y를 입력하시오: 4\n",
            "6\n"
          ]
        }
      ]
    },
    {
      "cell_type": "code",
      "source": [
        "price = int(input(\"상품의 가격을 입력하시오: \"))\n",
        "vat = price * 0.1\n",
        "print(vat)"
      ],
      "metadata": {
        "colab": {
          "base_uri": "https://localhost:8080/"
        },
        "id": "riler4kT7oPu",
        "outputId": "7f83a300-9207-4b61-d9d8-e03fb6162700"
      },
      "execution_count": null,
      "outputs": [
        {
          "output_type": "stream",
          "name": "stdout",
          "text": [
            "상품의 가격을 입력하시오: 2000\n",
            "200.0\n"
          ]
        }
      ]
    },
    {
      "cell_type": "code",
      "source": [
        "age = int(input(\"현재 나이를 입력하시오.: \"))\n",
        "age = age + 10\n",
        "print(\"10년후면\", age, \" 세가 되시는 군요\")"
      ],
      "metadata": {
        "colab": {
          "base_uri": "https://localhost:8080/"
        },
        "id": "Uj0R3rsh7sIy",
        "outputId": "45e349a2-f2d4-403f-9103-c4bfddd8def7"
      },
      "execution_count": null,
      "outputs": [
        {
          "output_type": "stream",
          "name": "stdout",
          "text": [
            "현재 나이를 입력하시오.: 20\n",
            "10년후면 30  세가 되시는 군요\n"
          ]
        }
      ]
    }
  ]
}